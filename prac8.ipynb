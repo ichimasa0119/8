{
 "cells": [
  {
   "cell_type": "code",
   "execution_count": 203,
   "metadata": {
    "collapsed": true
   },
   "outputs": [],
   "source": [
    "#coding:utf-8\n",
    "\n",
    "import random\n",
    "\n",
    "from sklearn.feature_extraction.text import CountVectorizer, TfidfVectorizer\n",
    "from sklearn.linear_model import LogisticRegression\n",
    "from sklearn import cross_validation\n",
    "from sklearn.metrics import accuracy_score, classification_report\n",
    "import matplotlib.pyplot as plt\n",
    "\n",
    "import numpy as np\n",
    "import pylab\n",
    "\n",
    "from nltk import stem\n",
    "import re\n",
    "import random"
   ]
  },
  {
   "cell_type": "code",
   "execution_count": 204,
   "metadata": {
    "collapsed": true
   },
   "outputs": [],
   "source": [
    "sentences = []\n",
    "\n",
    "with open(\"./rt-polaritydata/pos.txt\", \"r\") as f:\n",
    "    for line in f:\n",
    "        sentences.append(\"+1 \" + line)\n",
    "\n",
    "with open(\"./rt-polaritydata/neg.txt\", \"r\") as f:\n",
    "    for line in f:\n",
    "        sentences.append(\"-1 \" + line)\n",
    "\n",
    "random.shuffle(sentences)\n",
    "\n",
    "with open(\"./sentiment.txt\", \"w\") as f:\n",
    "    for s in sentences:\n",
    "        f.write(s)"
   ]
  },
  {
   "cell_type": "markdown",
   "metadata": {},
   "source": [
    "Stop wordとは\n",
    "--------------------------------------\n",
    "<p>自然言語を処理するにあたって一般的であるなどの理由で処理対象外とする単語。</p>"
   ]
  },
  {
   "cell_type": "code",
   "execution_count": 205,
   "metadata": {
    "collapsed": true
   },
   "outputs": [],
   "source": [
    "def is_stopword(word):\n",
    "    return word in count_vectorizer.get_stop_words()"
   ]
  },
  {
   "cell_type": "code",
   "execution_count": 206,
   "metadata": {
    "collapsed": true
   },
   "outputs": [],
   "source": [
    "#センテンスを取得\n",
    "def get_sentence():\n",
    "    sentences = []\n",
    "\n",
    "    with open(\"./rt-polaritydata/pos.txt\", \"r\") as f:\n",
    "        for line in f:\n",
    "            sentences.append({'label':1, 'sentence':line})\n",
    "\n",
    "    with open(\"./rt-polaritydata/neg.txt\", \"r\") as f:\n",
    "        for line in f:\n",
    "            sentences.append({'label':-1, 'sentence':line})\n",
    "\n",
    "    random.shuffle(sentences)\n",
    "\n",
    "    return sentences"
   ]
  },
  {
   "cell_type": "code",
   "execution_count": 207,
   "metadata": {
    "collapsed": true
   },
   "outputs": [],
   "source": [
    "def create_feature(sentence):\n",
    "    fuature = []\n",
    "    words = \"\"\n",
    "    stemmer = stem.PorterStemmer()\n",
    "    sentences = []\n",
    "    labels = []\n",
    "\n",
    "    # 素性の作成\n",
    "    for s in sentence:\n",
    "        for word in re.compile(r'[,.:;\\s]').sub(\" \", s['sentence']).split():\n",
    "            if (not (is_stopword(word))):\n",
    "                words = words + \" \" + stemmer.stem(word)\n",
    "        sentences.append(words)\n",
    "        labels.append(s['label'])\n",
    "        words = \"\"\n",
    "    fuature.append(sentences)\n",
    "    fuature.append(labels)\n",
    "    return fuature"
   ]
  },
  {
   "cell_type": "code",
   "execution_count": 208,
   "metadata": {
    "collapsed": true
   },
   "outputs": [],
   "source": [
    "def create_words_weight(vacabulary, coef):\n",
    "    word_weight = []\n",
    "    for vocab, weight in zip(vacabulary, coef):\n",
    "        word_weight.append({'vocab': vocab, 'weight': weight})\n",
    "\n",
    "    return word_weight"
   ]
  },
  {
   "cell_type": "code",
   "execution_count": 225,
   "metadata": {
    "collapsed": true
   },
   "outputs": [],
   "source": [
    "def export_predict(X, Y, lr):\n",
    "    true_labels = Y\n",
    "    pre_labels = lr.predict(X)\n",
    "    prob = lr.predict_proba(X)\n",
    "    \n",
    "    line = \"\"\n",
    "\n",
    "    with open(\"./prob.txt\", \"w\") as f:\n",
    "        for i, t_label in enumerate(true_labels):\n",
    "            if t_label==1:\n",
    "                line = str(t_label) + \"  \" + str(pre_labels[i]) + \"  \"+ str(prob[i][1]) +\"\\n\"\n",
    "            elif t_label==-1:\n",
    "                line = str(t_label) + \"  \" + str(pre_labels[i]) + \"  \"+ str(prob[i][0]) +\"\\n\"\n",
    "\n",
    "            f.writelines(line)"
   ]
  },
  {
   "cell_type": "markdown",
   "metadata": {},
   "source": [
    "<h3>やりたいこと</h3>\n",
    "ある文章とその文章のP or Nがあったときに、その(学習に利用した)すべての文章のP or Nをもっともうまく判別できるロジスティック回帰モデルを作成したい\n",
    "→ロジスティック回帰モデルのパラメータθを決定したい"
   ]
  },
  {
   "cell_type": "markdown",
   "metadata": {},
   "source": [
    "<div class=\"images\">\n",
    "<img alt=\"\" src=\"sigmoid.png\" align=\"left\" width=\"400\" height=\"300\">\n",
    "</div>\n",
    "\n",
    "<h4>特徴</h4>\n",
    "    * yの値が0〜1の間におさまる\n",
    "    * 導関数をシグモイド関数自身で簡単に導出できる"
   ]
  },
  {
   "cell_type": "markdown",
   "metadata": {},
   "source": [
    "$$文章　f(x)= θ_0 + θ_1x_1 + θ_2x_2  ・・・$$\n",
    "$$σ(f_θ(x))　　→　　文章がポジティブ(or ネガティブ)である確率を算出$$\n",
    "$$P(C=t | x) = σ(f_θ(x))　^t (1-σ(f_θ(x))^{1-t} $$\n",
    "$$L(θ) = \\prod P(C=t | x)　←　こいつを最大化するθを算出する$$ "
   ]
  },
  {
   "cell_type": "markdown",
   "metadata": {},
   "source": [
    "$$Cost(θ) = -\\sum{(t_i)σ(f_θ(x))　^t + (1-t)(1-σ(f_θ(x))^{1-t} }$$"
   ]
  },
  {
   "cell_type": "markdown",
   "metadata": {},
   "source": [
    "上記の式から勾配法を用いてCost(w)が最小となるθを求める"
   ]
  },
  {
   "cell_type": "code",
   "execution_count": 210,
   "metadata": {
    "collapsed": false
   },
   "outputs": [
    {
     "name": "stdout",
     "output_type": "stream",
     "text": [
      "fuature:   [' \" god i\\'m behav like idiot ! \" ye ben kingsley', ' undeni intrigu film adventur young talent find inspir fring american underground', ' all-french cast marveilleux', ' intrigu stylish', ' writer/director burr steer emphas q quirki mix result', ' just move uplift funni', \" play like high-end john hugh comedi kind elder bueller' time\", ' crush worst film man women valley doll', ' hugh grant good line charm charm boy', ' partli schmaltzi by-the-numb romant comedi partli shallow rumin empti success -- entir soulless', ' spiffi anim featur unruli adolesc boy yearn adventur chanc prove worth', ' caruso descend sub-tarantino cute make sure salton sea work way good noir keep tight nasti', ' tv episod inflat past natur length', \" i'm sorri say seal deal - arnold\", ' play ryan gosl danni frighteningli fascin contradict', ' frenet realli funni', \" ' despit lag near finish line movi run good race edg seat long stretch '\", ' piccoli give superb perform deep feel', ' leap stori line shape director peter kosminski sharp sliver cut impress show sign rich condens evoc imag strike charact trait', ' cautionari tale grandios colleg student see impervi fall']\n",
      "[-1, 1, 1, 1, -1, 1, 1, -1, 1, -1, 1, 1, -1, -1, 1, -1, 1, 1, 1, 1]\n"
     ]
    }
   ],
   "source": [
    "if __name__ == \"__main__\":\n",
    "    count_vectorizer = CountVectorizer(stop_words='english')\n",
    "\n",
    "    sentence = get_sentence()\n",
    "    fuature = create_feature(sentence)\n",
    "\n",
    "    print(\"fuature:  \",fuature[0][0:20])\n",
    "    print(fuature[1][0:20])"
   ]
  },
  {
   "cell_type": "code",
   "execution_count": 211,
   "metadata": {
    "collapsed": false
   },
   "outputs": [
    {
     "name": "stdout",
     "output_type": "stream",
     "text": [
      "vocabulary ['barrel', 'barrett', 'barri', 'barrie', 'barrier', 'barris', 'barrow', 'barry', 'barrymor', 'bart', 'bartlebi', 'bartleby', 'bartlett', 'bas', 'base', 'basebal', 'baseball', 'based', 'basest', 'bash', 'basi', 'basic', 'bask', 'basketbal', 'bass', 'bast', 'bastard', 'bastion', 'bat', 'batch', 'bate', 'bath', 'batho', 'bathroom', 'bathtub', 'batman', 'batter', 'batteri', 'battista', 'battl', 'battlefield', 'bawdi', 'baz', 'bazadona', 'beach', 'beachcomb', 'beacon', 'bead', 'beam', 'bean']\n"
     ]
    }
   ],
   "source": [
    "    #単語数のカウント\n",
    "    feature_vectors = count_vectorizer.fit_transform(fuature[0])\n",
    "    vocabulary = count_vectorizer.get_feature_names()\n",
    "\n",
    "    X = feature_vectors.toarray()\n",
    "    Y = fuature[1]\n",
    "\n",
    "    Y = [y if y == 1 else 0 for y in Y]\n",
    "    print(\"vocabulary\",vocabulary[1000:1050])"
   ]
  },
  {
   "cell_type": "code",
   "execution_count": 212,
   "metadata": {
    "collapsed": false
   },
   "outputs": [
    {
     "name": "stdout",
     "output_type": "stream",
     "text": [
      "[[0 0 0 ..., 0 0 0]\n",
      " [0 0 0 ..., 0 0 0]\n",
      " [0 0 0 ..., 0 0 0]\n",
      " ..., \n",
      " [0 0 0 ..., 0 0 0]\n",
      " [0 0 0 ..., 0 0 0]\n",
      " [0 0 0 ..., 0 0 0]]\n"
     ]
    }
   ],
   "source": [
    "    print(X)"
   ]
  },
  {
   "cell_type": "code",
   "execution_count": 213,
   "metadata": {
    "collapsed": false
   },
   "outputs": [
    {
     "name": "stdout",
     "output_type": "stream",
     "text": [
      "[0, 1, 1, 1, 0, 1, 1, 0, 1, 0, 1, 1, 0, 0, 1, 0, 1, 1, 1, 1, 0, 0, 0, 0, 0, 1, 1, 0, 1, 1, 0, 0, 1, 1, 0, 0, 1, 1, 0, 0, 1, 0, 1, 0, 0, 1, 1, 1, 1, 0, 1, 1, 0, 1, 0, 0, 0, 1, 1, 1, 0, 1, 0, 1, 1, 0, 1, 1, 0, 1, 1, 0, 1, 0, 1, 1, 1, 1, 1, 1, 1, 1, 0, 0, 0, 1, 1, 0, 1, 1, 0, 1, 0, 0, 1, 1, 0, 0, 0, 1]\n"
     ]
    }
   ],
   "source": [
    "    print(Y[0:100])"
   ]
  },
  {
   "cell_type": "code",
   "execution_count": 215,
   "metadata": {
    "collapsed": false
   },
   "outputs": [
    {
     "name": "stdout",
     "output_type": "stream",
     "text": [
      "<bound method BaseEstimator.get_params of LogisticRegression(C=1000.0, class_weight=None, dual=False,\n",
      "          fit_intercept=True, intercept_scaling=1, max_iter=100,\n",
      "          multi_class='ovr', n_jobs=1, penalty='l2', random_state=None,\n",
      "          solver='liblinear', tol=0.0001, verbose=0, warm_start=False)>\n"
     ]
    }
   ],
   "source": [
    "    #学習\n",
    "    lr = LogisticRegression(C=1000.0)\n",
    "    lr.fit(X, Y)\n",
    "\n",
    "    print(lr.get_params)"
   ]
  },
  {
   "cell_type": "code",
   "execution_count": 216,
   "metadata": {
    "collapsed": false
   },
   "outputs": [
    {
     "name": "stdout",
     "output_type": "stream",
     "text": [
      "[  9.99952008e-01   4.79917781e-05]\n"
     ]
    }
   ],
   "source": [
    "    #文章を与えて確率を予測\n",
    "    prob = lr.predict_proba(X[0].reshape(1, -1))[0]\n",
    "    print(prob)"
   ]
  },
  {
   "cell_type": "code",
   "execution_count": 217,
   "metadata": {
    "collapsed": false
   },
   "outputs": [
    {
     "name": "stdout",
     "output_type": "stream",
     "text": [
      "top10 [{'vocab': 'badg', 'weight': 20.322222256695376}, {'vocab': 'anatom', 'weight': 19.148294773086075}, {'vocab': 'unsurpass', 'weight': 18.787451114984886}, {'vocab': 'tape', 'weight': 17.784152560036269}, {'vocab': 'taut', 'weight': 17.731070299432655}, {'vocab': 'cloud', 'weight': 17.533222804220799}, {'vocab': 'liber', 'weight': 17.275214231121367}, {'vocab': 'cozi', 'weight': 17.167535213124246}, {'vocab': 'smarter', 'weight': 15.669223378355353}, {'vocab': 'eerili', 'weight': 15.647176089747893}, {'vocab': 'engross', 'weight': 15.510489274008107}]\n"
     ]
    }
   ],
   "source": [
    "    #単語と重みの紐付け\n",
    "    word_weight = create_words_weight(vocabulary, lr.coef_[0])\n",
    "\n",
    "    #TOP10を抽出する\n",
    "    descend_weight = sorted(word_weight, key=lambda x: x[\"weight\"],reverse=True)\n",
    "    print(\"top10\", descend_weight[0:11])"
   ]
  },
  {
   "cell_type": "code",
   "execution_count": 218,
   "metadata": {
    "collapsed": false
   },
   "outputs": [
    {
     "name": "stdout",
     "output_type": "stream",
     "text": [
      "under10 [{'vocab': '85', 'weight': -19.555849918959222}, {'vocab': 'poorli', 'weight': -18.860026796894346}, {'vocab': 'unless', 'weight': -18.127958302923219}, {'vocab': 'picture', 'weight': -17.586329310712596}, {'vocab': 'rosenth', 'weight': -17.284226443453413}, {'vocab': 'devolv', 'weight': -17.207120713655179}, {'vocab': 'languor', 'weight': -16.767272835255927}, {'vocab': 'jumbl', 'weight': -16.676451233235944}, {'vocab': 'witherspoon', 'weight': -16.621007581590241}, {'vocab': 'scooter', 'weight': -16.413445796116697}, {'vocab': 'relic', 'weight': -16.317037059423054}]\n"
     ]
    }
   ],
   "source": [
    "    #UNDER10を抽出\n",
    "    ascend_weight = sorted(word_weight, key=lambda x: x[\"weight\"])\n",
    "    print(\"under10\", ascend_weight[0:11])"
   ]
  },
  {
   "cell_type": "code",
   "execution_count": 226,
   "metadata": {
    "collapsed": false
   },
   "outputs": [],
   "source": [
    "y_pre = lr.predict(X)\n",
    "    \n",
    "#ラベルと確率をファイル出力\n",
    "export_predict(X, Y, lr)"
   ]
  },
  {
   "cell_type": "code",
   "execution_count": 228,
   "metadata": {
    "collapsed": false
   },
   "outputs": [
    {
     "name": "stdout",
     "output_type": "stream",
     "text": [
      "accuracy: 0.999249671731\n",
      "             precision    recall  f1-score   support\n",
      "\n",
      "          0       1.00      1.00      1.00      5331\n",
      "          1       1.00      1.00      1.00      5331\n",
      "\n",
      "avg / total       1.00      1.00      1.00     10662\n",
      "\n"
     ]
    }
   ],
   "source": [
    "    '''\n",
    "    予測の正解率，正例に関する適合率，再現率，F1スコア\n",
    "    精度(適合率, precision)：正と予測したデータのうち，実際に正であるものの割合\n",
    "    再現率 (recall)：実際に正であるもののうち，正であると予測されたものの割\n",
    "    F値 (F尺度, F-measure)：精度と再現率の調和平均．\n",
    "    '''\n",
    "    #正解率\n",
    "    print('accuracy: ' + str(accuracy_score(Y, y_pre)))\n",
    "    print(classification_report(Y, y_pre))"
   ]
  },
  {
   "cell_type": "markdown",
   "metadata": {},
   "source": [
    "<h2>5分割交差検定</h2>\n",
    " データを5分割して4つを訓練データ、1つをテストデータとして用いる手法\n",
    "<h3>accuracy</h3>\n",
    "正解率\n",
    "<h3>precision</h3>\n",
    "正と予測したデータのうち，実際に正であるものの割合\n",
    "<h3>recall</h3>\n",
    "実際に正であるもののうち，正であると予測されたものの割合\n",
    "<h3>f1</h3>\n",
    "精度と再現率の調和平均"
   ]
  },
  {
   "cell_type": "code",
   "execution_count": 229,
   "metadata": {
    "collapsed": false
   },
   "outputs": [
    {
     "name": "stdout",
     "output_type": "stream",
     "text": [
      "accuracy:   [ 0.69540769  0.69606004  0.70075047  0.70684803  0.70731707]\n",
      "precision:   [ 0.69252078  0.69351852  0.70075047  0.69565217  0.70275229]\n",
      "recall:   [ 0.70290534  0.70262664  0.70075047  0.73545966  0.71857411]\n",
      "f1_weighted:   [ 0.69539056  0.69604693  0.70075047  0.70660785  0.70727998]\n"
     ]
    }
   ],
   "source": [
    "    scores = cross_validation.cross_val_score(lr, X, Y, cv=5, scoring='accuracy')\n",
    "    print(\"accuracy:  \", scores)\n",
    "    scores = cross_validation.cross_val_score(lr, X, Y, cv=5, scoring='precision')\n",
    "    print(\"precision:  \", scores)\n",
    "    scores = cross_validation.cross_val_score(lr, X, Y, cv=5, scoring='recall')\n",
    "    print(\"recall:  \", scores)\n",
    "    scores = cross_validation.cross_val_score(lr, X, Y, cv=5, scoring='f1_weighted')\n",
    "    print(\"f1_weighted:  \", scores)"
   ]
  },
  {
   "cell_type": "code",
   "execution_count": 232,
   "metadata": {
    "collapsed": false
   },
   "outputs": [
    {
     "name": "stdout",
     "output_type": "stream",
     "text": [
      "precision 0.637323943662\n",
      "recall 0.848172446111\n",
      "===========================\n",
      "precision 0.662992125984\n",
      "recall 0.789128397376\n",
      "===========================\n",
      "precision 0.67443796836\n",
      "recall 0.759137769447\n",
      "===========================\n",
      "precision 0.680614859095\n",
      "recall 0.746954076851\n",
      "===========================\n",
      "precision 0.679653679654\n",
      "recall 0.735707591378\n",
      "===========================\n",
      "precision 0.68031358885\n",
      "recall 0.731958762887\n",
      "===========================\n",
      "precision 0.682019486271\n",
      "recall 0.721649484536\n",
      "===========================\n",
      "precision 0.684870188004\n",
      "recall 0.716963448922\n",
      "===========================\n",
      "precision 0.688628158845\n",
      "recall 0.715089034677\n",
      "===========================\n",
      "precision 0.693150684932\n",
      "recall 0.711340206186\n",
      "===========================\n",
      "precision 0.692449355433\n",
      "recall 0.704779756326\n",
      "===========================\n",
      "precision 0.695167286245\n",
      "recall 0.701030927835\n",
      "===========================\n",
      "precision 0.695246971109\n",
      "recall 0.69915651359\n",
      "===========================\n",
      "precision 0.700378071834\n",
      "recall 0.694470477976\n",
      "===========================\n",
      "precision 0.701435406699\n",
      "recall 0.686972820993\n",
      "===========================\n",
      "precision 0.70502901354\n",
      "recall 0.683223992502\n",
      "===========================\n",
      "precision 0.712881022616\n",
      "recall 0.679475164011\n",
      "===========================\n",
      "precision 0.716566866267\n",
      "recall 0.672914714152\n",
      "===========================\n",
      "precision 0.72510373444\n",
      "recall 0.655107778819\n",
      "===========================\n",
      "precision 0.740088105727\n",
      "recall 0.629803186504\n",
      "===========================\n",
      "precision 0.775204359673\n",
      "recall 0.533270852858\n",
      "===========================\n"
     ]
    }
   ],
   "source": [
    "thresholds = [{1:0.99, 0:0.01},{1:0.95, 0:0.05},{1:0.9, 0:0.1},{1:0.85, 0:0.15},{1:0.8, 0:0.2}\n",
    "        ,{1:0.75, 0:0.25},{1:0.7, 0:0.3},{1:0.65, 0:0.35},{1:0.6, 0:0.4},{1:0.55, 0:0.45},{1:0.5, 0:0.5}\n",
    "        ,{1:0.45, 0:0.55},{1:0.4, 0:0.6}, {1:0.35, 0:0.7}, {1:0.3, 0:0.7}, {1:0.25, 0:0.8},{1:0.2, 0:0.8}\n",
    "        , {1:0.15, 0:0.85},{1:0.1, 0:0.9}, {1:0.05, 0:0.95}, {1:0.01, 0: 0.99}]\n",
    "\n",
    "precision_rates = []\n",
    "recall_rates = []\n",
    "\n",
    "for threshold in thresholds:\n",
    "    lr = LogisticRegression(C=1000.0, class_weight=threshold)\n",
    "    lr.fit(X, Y)\n",
    "    \n",
    "    scores = cross_validation.cross_val_score(lr, X, Y, cv=5, scoring='precision')\n",
    "    precision_rates.append(scores[0])\n",
    "    print('precision', scores[0])\n",
    "    scores = cross_validation.cross_val_score(lr, X, Y, cv=5, scoring='recall')\n",
    "    recall_rates.append(scores[0])\n",
    "    print('recall', scores[0])\n",
    "    print(\"===========================\")"
   ]
  },
  {
   "cell_type": "code",
   "execution_count": 234,
   "metadata": {
    "collapsed": false
   },
   "outputs": [
    {
     "name": "stdout",
     "output_type": "stream",
     "text": [
      "[0.63732394366197187, 0.66299212598425195, 0.67443796835970027, 0.6806148590947908, 0.67965367965367962, 0.68031358885017423, 0.68201948627103637, 0.68487018800358102, 0.68862815884476536, 0.69315068493150689, 0.69244935543278086, 0.69516728624535318, 0.6952469711090401, 0.70037807183364842, 0.70143540669856463, 0.70502901353965186, 0.71288102261553588, 0.71656686626746502, 0.725103734439834, 0.74008810572687223, 0.77520435967302448]\n",
      "[0.84817244611059039, 0.78912839737582008, 0.75913776944704781, 0.74695407685098403, 0.73570759137769448, 0.73195876288659789, 0.72164948453608246, 0.71696344892221175, 0.71508903467666352, 0.71134020618556704, 0.70477975632614809, 0.7010309278350515, 0.69915651358950326, 0.69447047797563266, 0.68697282099343959, 0.683223992502343, 0.67947516401124652, 0.67291471415182758, 0.65510777881911908, 0.6298031865042174, 0.53327085285848175]\n"
     ]
    },
    {
     "data": {
      "image/png": "[encoded data removed]",
      "text/plain": [
       "<matplotlib.figure.Figure at 0x114e69ef0>"
      ]
     },
     "metadata": {},
     "output_type": "display_data"
    }
   ],
   "source": [
    "t = [0.99,0.95,0.9,0.85,0.8,0.75,0.7,0.65,0.6,0.55,0.5,0.45,0.4,0.35,0.3,0.25,0.2,0.15,0.1,0.05,0.01]\n",
    "\n",
    "print(precision_rates)\n",
    "print(recall_rates)\n",
    "\n",
    "plt.plot(t, precision_rates, label=\"precision\", color=\"red\")\n",
    "plt.plot(t, recall_rates, label=\"recall\", color=\"blue\")\n",
    "\n",
    "plt.xlabel(\"threshold\")\n",
    "plt.ylabel(\"rate\")\n",
    "plt.xlim(-0.05, 0.5)\n",
    "plt.ylim(0, 1)\n",
    "plt.title(\"Logistic Regression\")\n",
    "plt.show()"
   ]
  }
 ],
 "metadata": {
  "kernelspec": {
   "display_name": "Python 3",
   "language": "python",
   "name": "python3"
  },
  "language_info": {
   "codemirror_mode": {
    "name": "ipython",
    "version": 3
   },
   "file_extension": ".py",
   "mimetype": "text/x-python",
   "name": "python",
   "nbconvert_exporter": "python",
   "pygments_lexer": "ipython3",
   "version": "3.5.1"
  }
 },
 "nbformat": 4,
 "nbformat_minor": 0
}
